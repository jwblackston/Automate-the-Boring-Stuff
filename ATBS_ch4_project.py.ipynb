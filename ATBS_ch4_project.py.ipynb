{
 "cells": [
  {
   "cell_type": "code",
   "execution_count": 3,
   "metadata": {},
   "outputs": [
    {
     "name": "stdout",
     "output_type": "stream",
     "text": [
      "Opal,Onyx,andSissy\n"
     ]
    }
   ],
   "source": [
    "#Write a function that takes a list value as an argument and returns a string with all the items separated by a comma\\\n",
    "#and a space\n",
    "\n",
    "raw = []\n",
    "def ls_expand(raw):\n",
    "    count = 0\n",
    "    a_string=''\n",
    "    while count < len(raw) - 1:\n",
    "        a_string += raw[count] + ','\n",
    "        count += 1\n",
    "        \n",
    "    return a_string + 'and ' + raw[count]\n",
    "\n",
    "raw = ['Opal', 'Onyx', 'Sissy']\n",
    "print(ls_expand(raw))\n",
    "    "
   ]
  },
  {
   "cell_type": "code",
   "execution_count": null,
   "metadata": {},
   "outputs": [],
   "source": []
  }
 ],
 "metadata": {
  "kernelspec": {
   "display_name": "Python 3",
   "language": "python",
   "name": "python3"
  },
  "language_info": {
   "codemirror_mode": {
    "name": "ipython",
    "version": 3
   },
   "file_extension": ".py",
   "mimetype": "text/x-python",
   "name": "python",
   "nbconvert_exporter": "python",
   "pygments_lexer": "ipython3",
   "version": "3.7.3"
  }
 },
 "nbformat": 4,
 "nbformat_minor": 2
}
