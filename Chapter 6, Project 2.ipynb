{
 "cells": [
  {
   "cell_type": "markdown",
   "metadata": {},
   "source": [
    "## Project: Adding Bullets to Wiki Markup\n",
    "\n",
    "This program will automate the task of repeatedly going through wikipedia lists and \"bulleting\" the information manually. \n",
    "\n",
    "By: Walker Blackston\n",
    "\n",
    "Date: May 29, 2019"
   ]
  },
  {
   "cell_type": "markdown",
   "metadata": {},
   "source": [
    "### Step 1) Copy and Paste from the Clipboard"
   ]
  },
  {
   "cell_type": "code",
   "execution_count": 1,
   "metadata": {},
   "outputs": [],
   "source": [
    "#goal is to create 'bulletadder.py', to do so, copy and paste all code blocks into command line terminal to execute\n",
    "\n",
    "#! python3\n",
    "# bulletPointAdder.py - Adds Wikipedia bullet points to the start of each line of text in the clipboard\n",
    "# \"lines\" will store the text chunk we want to separate\n",
    "\n",
    "import pyperclip\n",
    "lines = 'In a press conference on Wednesday morning, special counsel Robert Mueller formally announced the end of his investigation into Russian interference in the 2016 election and said that he does not think he should testify before Congress about his findings.\\n In his statement, which largely summarized the report released to the public last month, he underscored a central challenge that his office faced while probing potential obstruction of justice by President Trump:\\n In Mueller’s view, it had the authority to investigate behavior that might be obstructive,\\n but it was barred from charging a sitting president with a crime because of Justice Department guidelines.'\n",
    "text = pyperclip.paste(lines)\n",
    "\n",
    "# externally copied list of text from website, \n",
    "# https://fivethirtyeight.com/features/should-special-prosecutors-like-mueller-have-more-power/"
   ]
  },
  {
   "cell_type": "markdown",
   "metadata": {},
   "source": [
    "### Step 2) Separate the lines of text and add the star"
   ]
  },
  {
   "cell_type": "code",
   "execution_count": null,
   "metadata": {},
   "outputs": [],
   "source": [
    "lines = text.split('\\n')\n",
    "for i in range(len(lines)): #loop through all indexes in the lines list\n",
    "    lines[i] = '-' + lines[i] #adds bullets to each string in the list\n",
    "\n",
    "pyperclip.copy(text)"
   ]
  },
  {
   "cell_type": "markdown",
   "metadata": {},
   "source": [
    "### Step 3)  Join the modified lines\n",
    "\n",
    "Now that the lines have been copied, we want to pass lines into a join() function to get a single string from the lists's strings. When run, it will replace the clipped text with bullet points that are separated by lines.    "
   ]
  },
  {
   "cell_type": "code",
   "execution_count": null,
   "metadata": {},
   "outputs": [],
   "source": [
    "text = '\\n'.join(lines)\n",
    "pyperclip.copy(text)"
   ]
  },
  {
   "cell_type": "markdown",
   "metadata": {},
   "source": [
    "Moving forward, this program will allow us to take huge text files and run the same program that will separate out lines, or perform other text manipulations. We could use this to justify, uppercase, or lowercase any text we want. "
   ]
  },
  {
   "cell_type": "code",
   "execution_count": null,
   "metadata": {},
   "outputs": [],
   "source": []
  }
 ],
 "metadata": {
  "kernelspec": {
   "display_name": "Python 3",
   "language": "python",
   "name": "python3"
  },
  "language_info": {
   "codemirror_mode": {
    "name": "ipython",
    "version": 3
   },
   "file_extension": ".py",
   "mimetype": "text/x-python",
   "name": "python",
   "nbconvert_exporter": "python",
   "pygments_lexer": "ipython3",
   "version": "3.7.3"
  }
 },
 "nbformat": 4,
 "nbformat_minor": 2
}
