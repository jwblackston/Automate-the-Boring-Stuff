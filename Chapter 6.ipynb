{
 "cells": [
  {
   "cell_type": "markdown",
   "metadata": {},
   "source": [
    "## Automate the Boring Stuff, Chapter 6:\n",
    "\n",
    "This notebook will contain notes, solutions, and code walkthroughs for projects in \"Automate the Boring Stuff\" chapter 6. Some projects will be written for command line processing (marked by #!), and therefore might not run within the .pynb.\n",
    "\n",
    "By: Walker Blackston\n",
    "Date: May 29, 2019"
   ]
  },
  {
   "cell_type": "markdown",
   "metadata": {},
   "source": [
    "### Project: Password Locker:\n",
    "\n",
    "- Step 1) Program design and data structures\n",
    "- Step 2) Handle command line arguments\n",
    "- Step 3) Copy the right password"
   ]
  },
  {
   "cell_type": "markdown",
   "metadata": {},
   "source": [
    "### Step 1) Program Design and Data Structures"
   ]
  },
  {
   "cell_type": "code",
   "execution_count": 1,
   "metadata": {},
   "outputs": [],
   "source": [
    "#we want a program generalized to be able to handle several accounts at once\n",
    "#random character list obtained through online string generator->next project to build\n",
    "\n",
    "#! python3\n",
    "# pw.py - An insecure password locker program. \n",
    "\n",
    "PASSWORDS = {'email': 't9CePXP5CNAm1BFmmIe2',\n",
    "             'twitter': 'z5ejuDGDwnu4p5hyWiMC',\n",
    "             'bike': '0720'}"
   ]
  },
  {
   "cell_type": "markdown",
   "metadata": {},
   "source": [
    "### Step 2) Handle command line args"
   ]
  },
  {
   "cell_type": "code",
   "execution_count": null,
   "metadata": {},
   "outputs": [],
   "source": [
    "import sys, pyperclip\n",
    "if len(sys.argv) < 2:\n",
    "    print('Usage: python pw.py [account] - copy account password')\n",
    "    sys.exit()\n",
    "\n",
    "account = sys.argv[1]"
   ]
  },
  {
   "cell_type": "markdown",
   "metadata": {},
   "source": [
    "### Step 3) Copy the right password"
   ]
  },
  {
   "cell_type": "code",
   "execution_count": null,
   "metadata": {},
   "outputs": [],
   "source": [
    "if aaccount in PASSWORDS:\n",
    "    pyperclip.copy(PASSWORDS[account])\n",
    "    print('Password for ' + account + 'copied to clipboard.')\n",
    "else:\n",
    "    print('There is no account named ' + account)"
   ]
  }
 ],
 "metadata": {
  "kernelspec": {
   "display_name": "Python 3",
   "language": "python",
   "name": "python3"
  },
  "language_info": {
   "codemirror_mode": {
    "name": "ipython",
    "version": 3
   },
   "file_extension": ".py",
   "mimetype": "text/x-python",
   "name": "python",
   "nbconvert_exporter": "python",
   "pygments_lexer": "ipython3",
   "version": "3.7.3"
  }
 },
 "nbformat": 4,
 "nbformat_minor": 2
}
