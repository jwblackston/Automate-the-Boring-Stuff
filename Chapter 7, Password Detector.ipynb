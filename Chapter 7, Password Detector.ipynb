{
 "cells": [
  {
   "cell_type": "markdown",
   "metadata": {},
   "source": [
    "## Strong Password Detection\n",
    "\n",
    "In this project, we want to create a program that will evaluate our passwords as strong or not, based on a few criteria. \n",
    "\n",
    "They are as follows:\n",
    "\n",
    "1) It is a string of equal or greater length to 8 digits\n",
    "\n",
    "2) Contains at least one upper and lower case letter\n",
    "\n",
    "3) And contains at least one numerical digit\n",
    "\n",
    "4) Test and validate the string"
   ]
  },
  {
   "cell_type": "code",
   "execution_count": 4,
   "metadata": {},
   "outputs": [
    {
     "name": "stdout",
     "output_type": "stream",
     "text": [
      "I wouldn't use this password. Please check for guidelines to password strength and resubmit.\n"
     ]
    }
   ],
   "source": [
    "# strongPword.py\n",
    "import re \n",
    "import pyperclip\n",
    "from re import compile, search\n",
    "\n",
    "len_regex =  re.compile(r'.{8,}')\n",
    "\n",
    "upper_regex = re.compile(r'[A-Z]')\n",
    "\n",
    "lower_regex = re.compile(r'[a-z]')\n",
    "\n",
    "is_num_regex = re.compile(r'[0-9]')\n",
    "\n",
    "# create function to write checks in one program\n",
    "def pass_strength(text):\n",
    "    if len_regex.search(text) is None:\n",
    "        return False\n",
    "    if upper_regex.search(text) is None:\n",
    "        return False\n",
    "    if lower_regex.search(text) is None:\n",
    "        return False\n",
    "    if is_num_regex.search(text) is None:\n",
    "        return False\n",
    "    else:\n",
    "        return True\n",
    "    \n",
    "# copy an external password (control+C on some string of characters) or create new password and copy to clipboard, then:\n",
    "pword = str(pyperclip.paste())\n",
    "\n",
    "if pass_strength(pword) is True:\n",
    "    print('That\\'s a strong password. Please store it for this site only.')\n",
    "else:\n",
    "    print('I wouldn\\'t use this password. Please check for guidelines to password strength and resubmit.')"
   ]
  }
 ],
 "metadata": {
  "kernelspec": {
   "display_name": "Python 3",
   "language": "python",
   "name": "python3"
  },
  "language_info": {
   "codemirror_mode": {
    "name": "ipython",
    "version": 3
   },
   "file_extension": ".py",
   "mimetype": "text/x-python",
   "name": "python",
   "nbconvert_exporter": "python",
   "pygments_lexer": "ipython3",
   "version": "3.7.3"
  }
 },
 "nbformat": 4,
 "nbformat_minor": 2
}
